{
  "nbformat": 4,
  "nbformat_minor": 0,
  "metadata": {
    "colab": {
      "provenance": [],
      "authorship_tag": "ABX9TyPRtuWNdO4BNOHgTCDw3p8Z",
      "include_colab_link": true
    },
    "kernelspec": {
      "name": "python3",
      "display_name": "Python 3"
    },
    "language_info": {
      "name": "python"
    }
  },
  "cells": [
    {
      "cell_type": "markdown",
      "metadata": {
        "id": "view-in-github",
        "colab_type": "text"
      },
      "source": [
        "<a href=\"https://colab.research.google.com/github/manikantadon/Iris-Flower-Project/blob/master/Numpy_LearningPath.ipynb\" target=\"_parent\"><img src=\"https://colab.research.google.com/assets/colab-badge.svg\" alt=\"Open In Colab\"/></a>"
      ]
    },
    {
      "cell_type": "markdown",
      "source": [
        "Numpy Tutorial"
      ],
      "metadata": {
        "id": "VcRxrmYxbmlH"
      }
    },
    {
      "cell_type": "markdown",
      "source": [
        "***what is numpy ?***\n",
        "NumPy stands for numeric python which is a python package for the computation and processing of the multidimensional and single dimensional array elements."
      ],
      "metadata": {
        "id": "GfFGQ9snb36F"
      }
    },
    {
      "cell_type": "markdown",
      "source": [
        "NumPy provides various powerful data structures, implementing multi-dimensional arrays and matrices. These data structures are used for the optimal computations regarding arrays and matrices."
      ],
      "metadata": {
        "id": "bkD-I7PucgSl"
      }
    },
    {
      "cell_type": "markdown",
      "source": [
        "***There are the following advantages of using NumPy for data analysis.***\n",
        "\n",
        "1) NumPy performs array-oriented computing.\n",
        "2)It performs scientific computations.\n",
        "3) It is capable of performing Fourier Transform and reshaping the data stored in multidimensional arrays.\n",
        "4) NumPy provides the in-built functions for linear algebra and random number generation."
      ],
      "metadata": {
        "id": "JlbD6dTddNp0"
      }
    },
    {
      "cell_type": "markdown",
      "source": [
        "**NumPy Ndarray**"
      ],
      "metadata": {
        "id": "V_ImnuceepY5"
      }
    },
    {
      "cell_type": "markdown",
      "source": [
        "Ndarray is the n-dimensional array object defined in the numpy which stores the collection of the similar type of elements. In other words, we can define a ndarray as the collection of the data type (dtype) objects."
      ],
      "metadata": {
        "id": "Xk0e-8ioetee"
      }
    },
    {
      "cell_type": "markdown",
      "source": [
        "Each element of the Array object contains the same size in the memory."
      ],
      "metadata": {
        "id": "VteB3Eq-fxz4"
      }
    },
    {
      "cell_type": "markdown",
      "source": [
        "***creating ndarray***"
      ],
      "metadata": {
        "id": "0nxf8gqaf3W6"
      }
    },
    {
      "cell_type": "code",
      "source": [
        "import numpy as np\n",
        "array = np.array\n",
        "array"
      ],
      "metadata": {
        "colab": {
          "base_uri": "https://localhost:8080/"
        },
        "id": "pZZieAW9buP6",
        "outputId": "89bc9b8a-7d48-4642-8333-df9d8cde21d9"
      },
      "execution_count": null,
      "outputs": [
        {
          "output_type": "execute_result",
          "data": {
            "text/plain": [
              "<function numpy.array>"
            ]
          },
          "metadata": {},
          "execution_count": 3
        }
      ]
    },
    {
      "cell_type": "code",
      "source": [
        "print(array)"
      ],
      "metadata": {
        "colab": {
          "base_uri": "https://localhost:8080/"
        },
        "id": "bg9mVjoYgszu",
        "outputId": "b5e8cc01-fa6b-4461-9417-5de6f534d852"
      },
      "execution_count": null,
      "outputs": [
        {
          "output_type": "stream",
          "name": "stdout",
          "text": [
            "<built-in function array>\n"
          ]
        }
      ]
    },
    {
      "cell_type": "markdown",
      "source": [
        "**syntax**∇  \n",
        "numpy.array(object, dtype = None, copy = True, order = None, subok = False, ndmin = 0)∇\n",
        "\n",
        "object\tIt represents the collection object. It can be a list, tuple, dictionary, set, etc."
      ],
      "metadata": {
        "id": "NKOpoR-BhaKM"
      }
    },
    {
      "cell_type": "code",
      "source": [
        "a = np.array([1,2,3,4])\n",
        "print(a)"
      ],
      "metadata": {
        "colab": {
          "base_uri": "https://localhost:8080/"
        },
        "id": "PWkjKJkWg0Cr",
        "outputId": "98ac48fe-60ac-4f73-938a-8c5a69c5f236"
      },
      "execution_count": null,
      "outputs": [
        {
          "output_type": "stream",
          "name": "stdout",
          "text": [
            "[1 2 3 4]\n"
          ]
        }
      ]
    },
    {
      "cell_type": "code",
      "source": [
        "print(a)"
      ],
      "metadata": {
        "colab": {
          "base_uri": "https://localhost:8080/"
        },
        "id": "nwMSXsvUjDFp",
        "outputId": "cb630fa0-aa6a-4be5-c590-89c79f738338"
      },
      "execution_count": null,
      "outputs": [
        {
          "output_type": "stream",
          "name": "stdout",
          "text": [
            "[1 2 3 4]\n"
          ]
        }
      ]
    },
    {
      "cell_type": "code",
      "source": [
        "b = np.array([1,2,3,4],complex)\n",
        "b"
      ],
      "metadata": {
        "colab": {
          "base_uri": "https://localhost:8080/"
        },
        "id": "2vTcdq7njGDA",
        "outputId": "cdf788c2-3e98-48b1-cdfe-a6eb5b506ff7"
      },
      "execution_count": null,
      "outputs": [
        {
          "output_type": "execute_result",
          "data": {
            "text/plain": [
              "array([1.+0.j, 2.+0.j, 3.+0.j, 4.+0.j])"
            ]
          },
          "metadata": {},
          "execution_count": 11
        }
      ]
    },
    {
      "cell_type": "code",
      "source": [
        "floats = np.array([1,2,3,4],float)\n",
        "floats"
      ],
      "metadata": {
        "colab": {
          "base_uri": "https://localhost:8080/"
        },
        "id": "8svuYqZnje9b",
        "outputId": "13dad4e7-7d5b-4d0e-e22c-6f01315b7fb8"
      },
      "execution_count": null,
      "outputs": [
        {
          "output_type": "execute_result",
          "data": {
            "text/plain": [
              "array([1., 2., 3., 4.])"
            ]
          },
          "metadata": {},
          "execution_count": 13
        }
      ]
    },
    {
      "cell_type": "code",
      "source": [
        "check_dimension = np.array([[1,2,3,4],[5,6,7,8],[9,10,11,12]])\n",
        "print(\"No. of dimensions \",check_dimension.ndim)\n",
        "print(\"printing the arra check_dimension \\n\",check_dimension)"
      ],
      "metadata": {
        "colab": {
          "base_uri": "https://localhost:8080/"
        },
        "id": "hv6UbeSnjoD1",
        "outputId": "f31b7d24-ec0a-40cc-ecd1-f43c6b23444b"
      },
      "execution_count": null,
      "outputs": [
        {
          "output_type": "stream",
          "name": "stdout",
          "text": [
            "No. of dimensions  2\n",
            "printing the arra check_dimension \n",
            " [[ 1  2  3  4]\n",
            " [ 5  6  7  8]\n",
            " [ 9 10 11 12]]\n"
          ]
        }
      ]
    },
    {
      "cell_type": "markdown",
      "source": [
        "**Finding the size of each array element**∇   \n",
        "\n",
        "The itemsize function is used to get the size of each array item. It returns the number of bytes taken by each array element."
      ],
      "metadata": {
        "id": "C4t_RqWuk4kn"
      }
    },
    {
      "cell_type": "code",
      "source": [
        "#finding the size of each item in the array\n",
        "import numpy as np\n",
        "a = np.array([[1,2,3]])\n",
        "print(\"Each item contains\",a.itemsize,\"bytes\")"
      ],
      "metadata": {
        "colab": {
          "base_uri": "https://localhost:8080/"
        },
        "id": "hj0ehPxlktV8",
        "outputId": "b7c4c4f6-61ac-4f14-e4db-adcee6af5344"
      },
      "execution_count": null,
      "outputs": [
        {
          "output_type": "stream",
          "name": "stdout",
          "text": [
            "Each item contains 8 bytes\n"
          ]
        }
      ]
    },
    {
      "cell_type": "code",
      "source": [
        "multi_dimension = np.array([[1,2,3,4],[5,6,7,8]])\n",
        "print(\"Each item contains\",multi_dimension.itemsize,\"bytes\")"
      ],
      "metadata": {
        "colab": {
          "base_uri": "https://localhost:8080/"
        },
        "id": "Z_KwDlv0llPP",
        "outputId": "b5d8fdcb-11e6-48bc-875c-2011a877f95a"
      },
      "execution_count": null,
      "outputs": [
        {
          "output_type": "stream",
          "name": "stdout",
          "text": [
            "Each item contains 8 bytes\n"
          ]
        }
      ]
    },
    {
      "cell_type": "markdown",
      "source": [
        "**Finding size and shape of an Array**"
      ],
      "metadata": {
        "id": "N2dVL4RXmMYF"
      }
    },
    {
      "cell_type": "code",
      "source": [
        "print(\"size is\",a.size,\"\\nshape is\",a.shape)\n",
        "print(multi_dimension.size,\"\\n\",multi_dimension.shape)"
      ],
      "metadata": {
        "colab": {
          "base_uri": "https://localhost:8080/"
        },
        "id": "LDzRNLdkmKNs",
        "outputId": "48d337d9-0f4d-4e96-a123-e46afdcb5cf6"
      },
      "execution_count": null,
      "outputs": [
        {
          "output_type": "stream",
          "name": "stdout",
          "text": [
            "size is 3 \n",
            "shape is (1, 3)\n",
            "8 \n",
            " (2, 4)\n"
          ]
        }
      ]
    },
    {
      "cell_type": "markdown",
      "source": [
        "**Slicing the Array**"
      ],
      "metadata": {
        "id": "s8Cr_Xj5n7N4"
      }
    },
    {
      "cell_type": "code",
      "source": [
        "print(a[0],a[0,1],a[:,:])"
      ],
      "metadata": {
        "colab": {
          "base_uri": "https://localhost:8080/"
        },
        "id": "cvmmY66Nn6Dz",
        "outputId": "c3c4e13b-d2c8-4186-a78f-2a010ceda63e"
      },
      "execution_count": null,
      "outputs": [
        {
          "output_type": "stream",
          "name": "stdout",
          "text": [
            "[1 2 3] 2 [[1 2 3]]\n"
          ]
        }
      ]
    },
    {
      "cell_type": "code",
      "source": [
        "print(multi_dimension[:,:],\"\\n\",multi_dimension[:,0])"
      ],
      "metadata": {
        "colab": {
          "base_uri": "https://localhost:8080/"
        },
        "id": "mJorCubPoTlm",
        "outputId": "df569a4c-b206-4c66-cf43-62f253fa1a86"
      },
      "execution_count": null,
      "outputs": [
        {
          "output_type": "stream",
          "name": "stdout",
          "text": [
            "[[1 2 3 4]\n",
            " [5 6 7 8]] \n",
            " [1 5]\n"
          ]
        }
      ]
    },
    {
      "cell_type": "code",
      "source": [
        "import numpy as np\n",
        "a = np.array([[1,2,3],[4,5,6],[7,8,9]])\n",
        "print(a[0:])"
      ],
      "metadata": {
        "colab": {
          "base_uri": "https://localhost:8080/"
        },
        "id": "rscP2nvLQmA8",
        "outputId": "83ddec7d-6561-40de-f948-6ad137a9ebe0"
      },
      "execution_count": 2,
      "outputs": [
        {
          "output_type": "stream",
          "name": "stdout",
          "text": [
            "[[1 2 3]\n",
            " [4 5 6]\n",
            " [7 8 9]]\n"
          ]
        }
      ]
    },
    {
      "cell_type": "code",
      "source": [
        "a[:,1] # All rows with column 1"
      ],
      "metadata": {
        "colab": {
          "base_uri": "https://localhost:8080/"
        },
        "id": "EdvYrac3RiXI",
        "outputId": "43e03781-db04-4f5d-c503-b1f6e087e90d"
      },
      "execution_count": 6,
      "outputs": [
        {
          "output_type": "execute_result",
          "data": {
            "text/plain": [
              "array([2, 5, 8])"
            ]
          },
          "metadata": {},
          "execution_count": 6
        }
      ]
    },
    {
      "cell_type": "markdown",
      "source": [
        "****LineSpace****"
      ],
      "metadata": {
        "id": "9h1o2NpMR51e"
      }
    },
    {
      "cell_type": "markdown",
      "source": [
        "The Linspace function returns series of evenly spaced values over the given interval"
      ],
      "metadata": {
        "id": "AyPAatJMSQUZ"
      }
    },
    {
      "cell_type": "code",
      "source": [
        "Linspace_interval = np.linspace(1,4,10)\n",
        "Linspace_interval"
      ],
      "metadata": {
        "colab": {
          "base_uri": "https://localhost:8080/"
        },
        "id": "iLLTeDOcR0sq",
        "outputId": "e8e39bb1-ffb2-4a32-97c3-7b56620b17d8"
      },
      "execution_count": 11,
      "outputs": [
        {
          "output_type": "execute_result",
          "data": {
            "text/plain": [
              "array([1.        , 1.33333333, 1.66666667, 2.        , 2.33333333,\n",
              "       2.66666667, 3.        , 3.33333333, 3.66666667, 4.        ])"
            ]
          },
          "metadata": {},
          "execution_count": 11
        }
      ]
    },
    {
      "cell_type": "markdown",
      "source": [
        "** Max() Min() Sum() functions **"
      ],
      "metadata": {
        "id": "woTwIFd3TP8S"
      }
    },
    {
      "cell_type": "code",
      "source": [
        "print(a.max(),a.min(),a.sum())"
      ],
      "metadata": {
        "colab": {
          "base_uri": "https://localhost:8080/"
        },
        "id": "xzeDS4qLTMMg",
        "outputId": "834570e2-e662-4294-bfd3-37e10021df34"
      },
      "execution_count": 12,
      "outputs": [
        {
          "output_type": "stream",
          "name": "stdout",
          "text": [
            "9 1 45\n"
          ]
        }
      ]
    },
    {
      "cell_type": "markdown",
      "source": [
        "**square root and standard deviation**"
      ],
      "metadata": {
        "id": "QEfLoxDpUREt"
      }
    },
    {
      "cell_type": "code",
      "source": [
        "np.sqrt(a) # Square root"
      ],
      "metadata": {
        "colab": {
          "base_uri": "https://localhost:8080/"
        },
        "id": "dGheIBpUTetw",
        "outputId": "7d173b82-8265-49af-a4ad-cd030bd9516a"
      },
      "execution_count": 18,
      "outputs": [
        {
          "output_type": "execute_result",
          "data": {
            "text/plain": [
              "array([[1.        , 1.41421356, 1.73205081],\n",
              "       [2.        , 2.23606798, 2.44948974],\n",
              "       [2.64575131, 2.82842712, 3.        ]])"
            ]
          },
          "metadata": {},
          "execution_count": 18
        }
      ]
    },
    {
      "cell_type": "code",
      "source": [
        "np.std(a) # Standard deviation"
      ],
      "metadata": {
        "colab": {
          "base_uri": "https://localhost:8080/"
        },
        "id": "FEdyHXjIUj_9",
        "outputId": "f3c6d439-736b-4f96-b84a-77e2a53d18fa"
      },
      "execution_count": 19,
      "outputs": [
        {
          "output_type": "execute_result",
          "data": {
            "text/plain": [
              "2.581988897471611"
            ]
          },
          "metadata": {},
          "execution_count": 19
        }
      ]
    },
    {
      "cell_type": "markdown",
      "source": [
        "***Arithmetic operations on ndarrays***"
      ],
      "metadata": {
        "id": "EcUeMSO3Uxa5"
      }
    },
    {
      "cell_type": "code",
      "source": [
        "b = np.array([[1,2,3],[4,5,6],[7,8,9]])\n",
        "a+b # a-b All zeros a/b , a*b\n"
      ],
      "metadata": {
        "colab": {
          "base_uri": "https://localhost:8080/"
        },
        "id": "7ZYf4Iy8Uu96",
        "outputId": "1b3512e8-4098-4121-b5cf-35a2cfb57871"
      },
      "execution_count": 22,
      "outputs": [
        {
          "output_type": "execute_result",
          "data": {
            "text/plain": [
              "array([[ 2,  4,  6],\n",
              "       [ 8, 10, 12],\n",
              "       [14, 16, 18]])"
            ]
          },
          "metadata": {},
          "execution_count": 22
        }
      ]
    },
    {
      "cell_type": "markdown",
      "source": [
        "**Array concatenation**\n",
        "\n",
        "The numpy provides us with the vertical stacking and horizontal stacking which allows us to concatenate two multi-dimensional arrays vertically or horizontally."
      ],
      "metadata": {
        "id": "Gvc2NckCV5wQ"
      }
    },
    {
      "cell_type": "code",
      "source": [
        "verticalConcat = np.vstack((a,b))\n",
        "HorizontalConcat = np.hstack((a,b))\n",
        "print(verticalConcat,\"\\n\\n\",HorizontalConcat)"
      ],
      "metadata": {
        "colab": {
          "base_uri": "https://localhost:8080/"
        },
        "id": "KD3JtdrzV_jF",
        "outputId": "0fcc45a8-978d-4ebf-f1cd-dcb7c76291df"
      },
      "execution_count": 31,
      "outputs": [
        {
          "output_type": "stream",
          "name": "stdout",
          "text": [
            "[[1 2 3]\n",
            " [4 5 6]\n",
            " [7 8 9]\n",
            " [1 2 3]\n",
            " [4 5 6]\n",
            " [7 8 9]] \n",
            "\n",
            " [[1 2 3 1 2 3]\n",
            " [4 5 6 4 5 6]\n",
            " [7 8 9 7 8 9]]\n"
          ]
        }
      ]
    },
    {
      "cell_type": "code",
      "source": [
        "# Functions\n",
        "print (\"np.zeros((2,2)):\\n\", np.zeros((2,2)))\n",
        "print (\"np.ones((2,2)):\\n\", np.ones((2,2)))\n",
        "print (\"np.eye((2)):\\n\", np.eye((2))) # identity matrix\n",
        "print (\"np.random.random((2,2)):\\n\", np.random.random((2,2)))"
      ],
      "metadata": {
        "colab": {
          "base_uri": "https://localhost:8080/"
        },
        "id": "fHrFVLPsXU3T",
        "outputId": "b281d4a5-137e-45b8-8e82-ee50756db804"
      },
      "execution_count": 32,
      "outputs": [
        {
          "output_type": "stream",
          "name": "stdout",
          "text": [
            "np.zeros((2,2)):\n",
            " [[0. 0.]\n",
            " [0. 0.]]\n",
            "np.ones((2,2)):\n",
            " [[1. 1.]\n",
            " [1. 1.]]\n",
            "np.eye((2)):\n",
            " [[1. 0.]\n",
            " [0. 1.]]\n",
            "np.random.random((2,2)):\n",
            " [[0.89450391 0.31480867]\n",
            " [0.48341226 0.92709599]]\n"
          ]
        }
      ]
    }
  ]
}